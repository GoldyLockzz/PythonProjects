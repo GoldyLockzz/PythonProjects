{
 "cells": [
  {
   "cell_type": "code",
   "execution_count": 1,
   "id": "d3b2b690",
   "metadata": {},
   "outputs": [],
   "source": [
    "import os,shutil #shuil= shell utility ->provides a number of high-level operations on files and collections of files"
   ]
  },
  {
   "cell_type": "code",
   "execution_count": 2,
   "id": "116c6658",
   "metadata": {},
   "outputs": [
    {
     "name": "stdout",
     "output_type": "stream",
     "text": [
      "C:/Users/user/FreeCodeCamp_Data Analyst Bootcamp/Automated File to Folder Sorter/\n"
     ]
    },
    {
     "data": {
      "text/plain": [
       "'\\npath+=\"/\"\\nprint(path)\\nnewPath=path.replace(\"\\\\\",\\'/\\')\\nprint(newPath)\\nos.path.exists(newPath+\\'excel\\')\\n'"
      ]
     },
     "execution_count": 2,
     "metadata": {},
     "output_type": "execute_result"
    }
   ],
   "source": [
    "path=r'C:/Users/user/FreeCodeCamp_Data Analyst Bootcamp/Automated File to Folder Sorter/' #r : By prefixing the string with r, you tell Python to treat the backslashes as literal backslashes and not as escape characters\n",
    "print(path)\n",
    "'''\n",
    "path+=\"/\"\n",
    "print(path)\n",
    "newPath=path.replace(\"\\\\\",'/')\n",
    "print(newPath)\n",
    "os.path.exists(newPath+'excel')\n",
    "'''"
   ]
  },
  {
   "cell_type": "code",
   "execution_count": 3,
   "id": "45031190",
   "metadata": {},
   "outputs": [],
   "source": [
    "file_name= os.listdir(path) #show all files in this path"
   ]
  },
  {
   "cell_type": "code",
   "execution_count": 4,
   "id": "59dd8042",
   "metadata": {},
   "outputs": [
    {
     "name": "stdout",
     "output_type": "stream",
     "text": [
      "Folders already exist\n",
      "Folders already exist\n",
      "Folders already exist\n",
      "There are files in this folder that were not moved\n"
     ]
    }
   ],
   "source": [
    "folder_types=['excel','pdf','images']\n",
    "\n",
    "for i in range(0,len(folder_types)):\n",
    "    if not os.path.exists(path+folder_types[i]):\n",
    "        print(path + folder_types[i])\n",
    "        os.makedirs(path+folder_types[i])\n",
    "    else:\n",
    "        print('Folders already exist')\n",
    "        \n",
    "for file in file_name:\n",
    "    if '.xlsx' in file and not os.path.exists(path+'excel/'+file):\n",
    "        shutil.move(path+file,path+'excel/'+file)\n",
    "    elif '.jpg' in file and not os.path.exists(path+'images/'+file):\n",
    "        shutil.move(path+file,path+'images/'+file)\n",
    "    elif '.pdf' in file and not os.path.exists(path+'pdf/'+file):\n",
    "        shutil.move(path+file,path+'pdf/'+file)\n",
    "    else:\n",
    "        print(\"There are files in this folder that were not moved\")\n",
    "        break"
   ]
  }
 ],
 "metadata": {
  "kernelspec": {
   "display_name": "Python 3",
   "language": "python",
   "name": "python3"
  },
  "language_info": {
   "codemirror_mode": {
    "name": "ipython",
    "version": 3
   },
   "file_extension": ".py",
   "mimetype": "text/x-python",
   "name": "python",
   "nbconvert_exporter": "python",
   "pygments_lexer": "ipython3",
   "version": "3.8.8"
  }
 },
 "nbformat": 4,
 "nbformat_minor": 5
}
